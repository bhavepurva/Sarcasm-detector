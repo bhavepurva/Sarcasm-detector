{
  "nbformat": 4,
  "nbformat_minor": 0,
  "metadata": {
    "colab": {
      "name": "nlp.ipynb",
      "provenance": [],
      "mount_file_id": "17noq1B67PrNA1UXbn6FsTbXueXNYuSsG",
      "authorship_tag": "ABX9TyPCu/sLezFqJGBnztHHLBjn",
      "include_colab_link": true
    },
    "kernelspec": {
      "name": "python3",
      "display_name": "Python 3"
    }
  },
  "cells": [
    {
      "cell_type": "markdown",
      "metadata": {
        "id": "view-in-github",
        "colab_type": "text"
      },
      "source": [
        "<a href=\"https://colab.research.google.com/github/bhavepurva/Sarcasm-detector/blob/main/nlp.ipynb\" target=\"_parent\"><img src=\"https://colab.research.google.com/assets/colab-badge.svg\" alt=\"Open In Colab\"/></a>"
      ]
    },
    {
      "cell_type": "markdown",
      "metadata": {
        "id": "0vrC-wXpHyVM"
      },
      "source": [
        "Determine whether news headline is sarcastic or not\n"
      ]
    },
    {
      "cell_type": "markdown",
      "metadata": {
        "id": "YHr1Y8mnIBJ1"
      },
      "source": [
        "getting data into colab"
      ]
    },
    {
      "cell_type": "code",
      "metadata": {
        "id": "-Htt68q4GmFz"
      },
      "source": [
        "#downloaded a zip file, uploaded to drive, mount drive on colab\n",
        "# use below command to unzip it, from and to path\n",
        "\n",
        "!unzip -uq \"/content/drive/My Drive/archive.zip\" -d \"/content/sarcasms.json\"\n",
        "\n"
      ],
      "execution_count": null,
      "outputs": []
    },
    {
      "cell_type": "markdown",
      "metadata": {
        "id": "E8XUpJvOP5oU"
      },
      "source": [
        "our data is in json format so we need to convert it into python format"
      ]
    },
    {
      "cell_type": "code",
      "metadata": {
        "colab": {
          "base_uri": "https://localhost:8080/"
        },
        "id": "XcrnkLVhP4ym",
        "outputId": "97445895-8a29-47f0-de93-3e6024fde55a"
      },
      "source": [
        "import json\n",
        "from tensorflow.keras.preprocessing.text import Tokenizer\n",
        "from tensorflow.keras.preprocessing.sequence import pad_sequences\n",
        "import tensorflow as tf\n",
        "import numpy as np\n",
        "\n",
        "#load json file into a data list\n",
        "with open('/content/sarcasms.json/Sarcasm_Headlines_Dataset.json',\"r\") as f:\n",
        "  data = [json.loads(line) for line in f]\n",
        "\n",
        "print(data[0])\n",
        "\n",
        "#creates three separate lists\n",
        "sentences=[i[\"headline\"] for i in data]\n",
        "labels=[i[\"is_sarcastic\"] for i in data]\n",
        "articles=[i[\"article_link\"] for i in data]\n"
      ],
      "execution_count": null,
      "outputs": [
        {
          "output_type": "stream",
          "text": [
            "{'article_link': 'https://www.huffingtonpost.com/entry/versace-black-code_us_5861fbefe4b0de3a08f600d5', 'headline': \"former versace store clerk sues over secret 'black code' for minority shoppers\", 'is_sarcastic': 0}\n"
          ],
          "name": "stdout"
        }
      ]
    },
    {
      "cell_type": "markdown",
      "metadata": {
        "id": "3eVhVVuPQ2c1"
      },
      "source": [
        "now that we have our list of sentences ready we can start tokenizing the that is preprocessing our data specifically sentences list."
      ]
    },
    {
      "cell_type": "code",
      "metadata": {
        "id": "nZswSx7xdU1p"
      },
      "source": [
        "vocab_size = 10000\n",
        "embedding_dim = 16\n",
        "max_length = 100\n",
        "trunc_type='post'\n",
        "padding_type='post'\n",
        "oov_tok = \"<OOV>\"\n",
        "training_size = 20000"
      ],
      "execution_count": null,
      "outputs": []
    },
    {
      "cell_type": "code",
      "metadata": {
        "colab": {
          "base_uri": "https://localhost:8080/"
        },
        "id": "A5RBGM6weMpH",
        "outputId": "ccc2f5ab-c997-4d30-be52-3e01fe1c92c5"
      },
      "source": [
        "import tensorflow as tf\n",
        "print(tf.__version__)"
      ],
      "execution_count": null,
      "outputs": [
        {
          "output_type": "stream",
          "text": [
            "2.4.1\n"
          ],
          "name": "stdout"
        }
      ]
    },
    {
      "cell_type": "markdown",
      "metadata": {
        "id": "FWPBwHlru42H"
      },
      "source": [
        "splitting data into training and testing sets"
      ]
    },
    {
      "cell_type": "code",
      "metadata": {
        "id": "hkbq_OgTvCd0"
      },
      "source": [
        "training_sentences=sentences[:training_size]\n",
        "testing_sentences=sentences[training_size:]\n",
        "\n",
        "training_labels=labels[:training_size]\n",
        "testing_labels=labels[training_size:]"
      ],
      "execution_count": null,
      "outputs": []
    },
    {
      "cell_type": "markdown",
      "metadata": {
        "id": "cKxMYMK1vFLP"
      },
      "source": [
        "tokenizing and padding our sentences\n"
      ]
    },
    {
      "cell_type": "code",
      "metadata": {
        "id": "2EFuqqbWvLWV"
      },
      "source": [
        "token=Tokenizer(num_words=vocab_size,oov_token=oov_tok)\n",
        "token.fit_on_texts(training_sentences)\n",
        "word_index=token.word_index\n",
        "\n",
        "training_sequences=token.texts_to_sequences(training_sentences)\n",
        "training_padded=pad_sequences(training_sequences,maxlen=max_length,padding=padding_type,truncating=trunc_type)\n",
        "\n",
        "testing_sequences=token.texts_to_sequences(testing_sentences)\n",
        "testing_padded=pad_sequences(testing_sequences,maxlen=max_length,padding=padding_type,truncating=trunc_type)"
      ],
      "execution_count": null,
      "outputs": []
    },
    {
      "cell_type": "markdown",
      "metadata": {
        "id": "oAI_RilJvYfv"
      },
      "source": [
        "for tensorflow version 2 \n"
      ]
    },
    {
      "cell_type": "code",
      "metadata": {
        "id": "RBe4JF4avXt4"
      },
      "source": [
        "training_padded = np.array(training_padded)\n",
        "training_labels = np.array(training_labels)\n",
        "testing_padded = np.array(testing_padded)\n",
        "testing_labels = np.array(testing_labels)"
      ],
      "execution_count": null,
      "outputs": []
    },
    {
      "cell_type": "markdown",
      "metadata": {
        "id": "ch_WxgzOvfhk"
      },
      "source": [
        "defining and training our model\n"
      ]
    },
    {
      "cell_type": "code",
      "metadata": {
        "id": "zKewjuDjQ9Ff"
      },
      "source": [
        "#top layer is embedding\n",
        "#neural net model\n",
        "model=tf.keras.Sequential([\n",
        "  tf.keras.layers.Embedding(vocab_size,embedding_dim,input_length=max_length),\n",
        "  tf.keras.layers.GlobalAveragePooling1D(),\n",
        "  tf.keras.layers.Dense(24,activation=\"relu\"),\n",
        "  tf.keras.layers.Dense(1,activation=\"sigmoid\")\n",
        "])\n",
        "model.compile(loss=\"binary_crossentropy\",optimizer=\"adam\",metrics=[\"accuracy\"])\n",
        "num_epochs=30\n",
        "history=model.fit(training_padded,training_labels,epochs=num_epochs,validation_data=(testing_padded,testing_labels),verbose=2)"
      ],
      "execution_count": null,
      "outputs": []
    },
    {
      "cell_type": "markdown",
      "metadata": {
        "id": "nR9ocnT_vkz2"
      },
      "source": [
        "testing model with new sentences- first tokenize and pad new sentences and then predict"
      ]
    },
    {
      "cell_type": "code",
      "metadata": {
        "colab": {
          "base_uri": "https://localhost:8080/"
        },
        "id": "dKQ4oJo9ezJg",
        "outputId": "ef82dc06-6c41-4f46-b1ac-8950ae3c2a63"
      },
      "source": [
        "sentence=[\"granny starting to fear spiders in the garden might be real\",\"top snake handler leaves sinking huckabee campaign\",\"how high can this be\",\"the weather today is bright and shiny\",\"frightened by boar market\"]\n",
        "sequences=token.texts_to_sequences(sentence)\n",
        "padded=pad_sequences(sequences,maxlen=max_length,padding=padding_type,truncating=trunc_type)\n",
        "predictions=model.predict(padded)\n",
        "for i in range(len(predictions)):\n",
        "\n",
        "  print(predictions[i])\n",
        "  if predictions[i]<0.50:\n",
        "    print(\"not sarcastic\")\n",
        "  else:\n",
        "    print(\"sarcastic\")"
      ],
      "execution_count": null,
      "outputs": [
        {
          "output_type": "stream",
          "text": [
            "[0.9761783]\n",
            "sarcastic\n",
            "[0.9986209]\n",
            "sarcastic\n",
            "[0.0004023]\n",
            "not sarcastic\n",
            "[3.2845583e-05]\n",
            "not sarcastic\n",
            "[0.99661]\n",
            "sarcastic\n"
          ],
          "name": "stdout"
        }
      ]
    }
  ]
}